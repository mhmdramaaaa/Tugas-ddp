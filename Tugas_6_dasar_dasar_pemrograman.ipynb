{
  "nbformat": 4,
  "nbformat_minor": 0,
  "metadata": {
    "colab": {
      "provenance": [],
      "authorship_tag": "ABX9TyNkTqqdjqdHZHna60aGPGyM",
      "include_colab_link": true
    },
    "kernelspec": {
      "name": "python3",
      "display_name": "Python 3"
    },
    "language_info": {
      "name": "python"
    }
  },
  "cells": [
    {
      "cell_type": "markdown",
      "metadata": {
        "id": "view-in-github",
        "colab_type": "text"
      },
      "source": [
        "<a href=\"https://colab.research.google.com/github/mhmdramaaaa/Tugas-ddp/blob/main/Tugas_6_dasar_dasar_pemrograman.ipynb\" target=\"_parent\"><img src=\"https://colab.research.google.com/assets/colab-badge.svg\" alt=\"Open In Colab\"/></a>"
      ]
    },
    {
      "cell_type": "code",
      "execution_count": null,
      "metadata": {
        "colab": {
          "base_uri": "https://localhost:8080/"
        },
        "id": "_jKqv4PR24hw",
        "outputId": "bccab69a-10df-4628-d536-063f686bad7f"
      },
      "outputs": [
        {
          "output_type": "stream",
          "name": "stdout",
          "text": [
            "1 + 3 + 5 + 7 + 9 + 11 + 13 + 15 + 17 + 19 = 100\n"
          ]
        }
      ],
      "source": [
        "total = 0\n",
        "for i in range(1, 20, 2):\n",
        "    total += i\n",
        "\n",
        "print(\"1 + 3 + 5 + 7 + 9 + 11 + 13 + 15 + 17 + 19 =\", total)"
      ]
    },
    {
      "cell_type": "code",
      "source": [
        "a = int(input(\"masukan jumlah baris:\"))\n",
        "for bintang in range(1, a+1):\n",
        "    print(bintang * \"*\")"
      ],
      "metadata": {
        "colab": {
          "base_uri": "https://localhost:8080/"
        },
        "id": "or54-YS5FoFa",
        "outputId": "332bcf2f-d9ec-48fe-eca5-1f0fa0494204"
      },
      "execution_count": 9,
      "outputs": [
        {
          "output_type": "stream",
          "name": "stdout",
          "text": [
            "masukan jumlah baris:5\n",
            "*\n",
            "**\n",
            "***\n",
            "****\n",
            "*****\n"
          ]
        }
      ]
    },
    {
      "cell_type": "code",
      "source": [
        "\n",
        "print()\n",
        "numbers= [951, 402, 984, 651, 360, 69, 408, 319, 601, 485, 980, 507, 725,\n",
        "547, 544, 615, 83, 165, 141, 501, 263, 617, 865, 575, 219, 390,\n",
        "984, 592, 236, 105, 942, 941, 386, 462, 47, 418, 907, 344, 236,\n",
        "375, 823, 566, 597, 978, 328, 615, 953, 345, 399, 162, 758, 219,\n",
        "918, 237, 412, 566, 826, 248, 866, 950, 626, 949, 687, 217, 815,\n",
        "67, 104, 58, 512, 24, 892, 894, 767, 553, 81, 379, 843, 831, 445,\n",
        "742, 717, 958, 609, 842, 451, 688, 753, 854, 685, 93, 857, 440,\n",
        "380, 126, 721, 328, 753, 470, 743, 527]\n",
        "\n",
        "a=0\n",
        "while a<len(numbers):\n",
        "    if numbers[a] %2!= 0:\n",
        "        print(numbers[a], end=\" \")\n",
        "    if numbers[a]==553:\n",
        "        break\n",
        "    a+=1"
      ],
      "metadata": {
        "colab": {
          "base_uri": "https://localhost:8080/"
        },
        "id": "sxeo_uppFxu9",
        "outputId": "a08da5c2-dd96-40bc-fd3b-eaafe6706889"
      },
      "execution_count": 10,
      "outputs": [
        {
          "output_type": "stream",
          "name": "stdout",
          "text": [
            "\n",
            "951 651 69 319 601 485 507 725 547 615 83 165 141 501 263 617 865 575 219 105 941 47 907 375 823 597 615 953 345 399 219 237 949 687 217 815 67 767 553 "
          ]
        }
      ]
    }
  ]
}